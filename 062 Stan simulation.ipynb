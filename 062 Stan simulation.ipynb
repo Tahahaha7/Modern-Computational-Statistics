{
 "cells": [
  {
   "cell_type": "code",
   "execution_count": 24,
   "metadata": {},
   "outputs": [
    {
     "data": {
      "text/html": [
       "<div>\n",
       "<style scoped>\n",
       "    .dataframe tbody tr th:only-of-type {\n",
       "        vertical-align: middle;\n",
       "    }\n",
       "\n",
       "    .dataframe tbody tr th {\n",
       "        vertical-align: top;\n",
       "    }\n",
       "\n",
       "    .dataframe thead th {\n",
       "        text-align: right;\n",
       "    }\n",
       "</style>\n",
       "<table border=\"1\" class=\"dataframe\">\n",
       "  <thead>\n",
       "    <tr style=\"text-align: right;\">\n",
       "      <th></th>\n",
       "      <th>father</th>\n",
       "      <th>son</th>\n",
       "      <th>count</th>\n",
       "    </tr>\n",
       "  </thead>\n",
       "  <tbody>\n",
       "    <tr>\n",
       "      <th>0</th>\n",
       "      <td>farm</td>\n",
       "      <td>farm</td>\n",
       "      <td>703</td>\n",
       "    </tr>\n",
       "    <tr>\n",
       "      <th>1</th>\n",
       "      <td>farm</td>\n",
       "      <td>unskilled</td>\n",
       "      <td>1478</td>\n",
       "    </tr>\n",
       "    <tr>\n",
       "      <th>2</th>\n",
       "      <td>farm</td>\n",
       "      <td>skilled</td>\n",
       "      <td>1430</td>\n",
       "    </tr>\n",
       "    <tr>\n",
       "      <th>3</th>\n",
       "      <td>farm</td>\n",
       "      <td>professional</td>\n",
       "      <td>1109</td>\n",
       "    </tr>\n",
       "    <tr>\n",
       "      <th>4</th>\n",
       "      <td>unskilled</td>\n",
       "      <td>farm</td>\n",
       "      <td>58</td>\n",
       "    </tr>\n",
       "    <tr>\n",
       "      <th>5</th>\n",
       "      <td>unskilled</td>\n",
       "      <td>unskilled</td>\n",
       "      <td>1756</td>\n",
       "    </tr>\n",
       "    <tr>\n",
       "      <th>6</th>\n",
       "      <td>unskilled</td>\n",
       "      <td>skilled</td>\n",
       "      <td>1630</td>\n",
       "    </tr>\n",
       "    <tr>\n",
       "      <th>7</th>\n",
       "      <td>unskilled</td>\n",
       "      <td>professional</td>\n",
       "      <td>1568</td>\n",
       "    </tr>\n",
       "    <tr>\n",
       "      <th>8</th>\n",
       "      <td>skilled</td>\n",
       "      <td>farm</td>\n",
       "      <td>63</td>\n",
       "    </tr>\n",
       "    <tr>\n",
       "      <th>9</th>\n",
       "      <td>skilled</td>\n",
       "      <td>unskilled</td>\n",
       "      <td>1453</td>\n",
       "    </tr>\n",
       "    <tr>\n",
       "      <th>10</th>\n",
       "      <td>skilled</td>\n",
       "      <td>skilled</td>\n",
       "      <td>2068</td>\n",
       "    </tr>\n",
       "    <tr>\n",
       "      <th>11</th>\n",
       "      <td>skilled</td>\n",
       "      <td>professional</td>\n",
       "      <td>2483</td>\n",
       "    </tr>\n",
       "    <tr>\n",
       "      <th>12</th>\n",
       "      <td>professional</td>\n",
       "      <td>farm</td>\n",
       "      <td>61</td>\n",
       "    </tr>\n",
       "    <tr>\n",
       "      <th>13</th>\n",
       "      <td>professional</td>\n",
       "      <td>unskilled</td>\n",
       "      <td>749</td>\n",
       "    </tr>\n",
       "    <tr>\n",
       "      <th>14</th>\n",
       "      <td>professional</td>\n",
       "      <td>skilled</td>\n",
       "      <td>1183</td>\n",
       "    </tr>\n",
       "    <tr>\n",
       "      <th>15</th>\n",
       "      <td>professional</td>\n",
       "      <td>professional</td>\n",
       "      <td>3315</td>\n",
       "    </tr>\n",
       "  </tbody>\n",
       "</table>\n",
       "</div>"
      ],
      "text/plain": [
       "          father           son  count\n",
       "0           farm          farm    703\n",
       "1           farm     unskilled   1478\n",
       "2           farm       skilled   1430\n",
       "3           farm  professional   1109\n",
       "4      unskilled          farm     58\n",
       "5      unskilled     unskilled   1756\n",
       "6      unskilled       skilled   1630\n",
       "7      unskilled  professional   1568\n",
       "8        skilled          farm     63\n",
       "9        skilled     unskilled   1453\n",
       "10       skilled       skilled   2068\n",
       "11       skilled  professional   2483\n",
       "12  professional          farm     61\n",
       "13  professional     unskilled    749\n",
       "14  professional       skilled   1183\n",
       "15  professional  professional   3315"
      ]
     },
     "execution_count": 24,
     "metadata": {},
     "output_type": "execute_result"
    }
   ],
   "source": [
    "from scipy import stats as sts\n",
    "import pandas as pd\n",
    "import numpy as np\n",
    "import matplotlib.pyplot as plt\n",
    "\n",
    "data = pd.read_csv(\"socialmobility.csv\")\n",
    "data"
   ]
  },
  {
   "cell_type": "code",
   "execution_count": 48,
   "metadata": {},
   "outputs": [
    {
     "name": "stdout",
     "output_type": "stream",
     "text": [
      "95% CI that the son is skilled while father is unskilled\n",
      " [0.31220254 0.33826378]\n",
      "\n",
      "95% CI that the son is professional while father is unskilled\n",
      " [0.30010122 0.32565323]\n"
     ]
    }
   ],
   "source": [
    "subset = data[data.father == \"unskilled\"]\n",
    "\"\"\"\n",
    "Setting a uniform distribution over \n",
    "the probability vector parameter of the multinomial.\n",
    "\"\"\"\n",
    "alpha_priors = np.repeat(1, len(subset))\n",
    "\"\"\"\n",
    "based on the conjugate prior table, we can compute the posterior \n",
    "hyperparameters of the Dirichlet posterior distribution by\n",
    "\"\"\"\n",
    "alpha_posteriors = [alpha_priors[i] + subset['count'].iloc[i] for i in range(len(subset))]\n",
    "\n",
    "posterior = sts.dirichlet(alpha_posteriors)\n",
    "\n",
    "samples = posterior.rvs(size=10**5)\n",
    "\n",
    "\"\"\"\n",
    "What is the posterior 95% probability interval over the probability that a son will\n",
    "become a skilled laborer if his father was an unskilled laborer?\n",
    "\"\"\"\n",
    "print(\"95% CI that the son is skilled while father is unskilled\\n\",\n",
    "      np.percentile(samples[:,2], [2.5, 97.5]))\n",
    "\n",
    "\n",
    "\"\"\"\n",
    "What is the posterior 95% probability interval over the probability that a son will\n",
    "become a professional laborer if his father was an unskilled laborer?\n",
    "\"\"\"\n",
    "print(\"\\n95% CI that the son is professional while father is unskilled\\n\",\n",
    "      np.percentile(samples[:,3], [2.5, 97.5]))"
   ]
  },
  {
   "cell_type": "code",
   "execution_count": 53,
   "metadata": {},
   "outputs": [
    {
     "name": "stdout",
     "output_type": "stream",
     "text": [
      "          father           son  count\n",
      "3           farm  professional   1109\n",
      "7      unskilled  professional   1568\n",
      "11       skilled  professional   2483\n",
      "15  professional  professional   3315\n",
      "\n",
      "95% CI that father works in a farm if son is a professional\n",
      " [0.12379266 0.13817723]\n"
     ]
    }
   ],
   "source": [
    "\"\"\"\n",
    "What is the posterior 95% probability interval over the probability that a father \n",
    "works on a farm if his son works as a professional?\n",
    "\"\"\"\n",
    "\n",
    "subset2 = data[data.son == \"professional\"]\n",
    "print(subset2)\n",
    "alpha_priors = np.repeat(1, len(subset2))\n",
    "\n",
    "alpha_posteriors = [alpha_priors[i] + subset2['count'].iloc[i] for i in range(len(subset2))]\n",
    "\n",
    "posterior2 = sts.dirichlet(alpha_posteriors)\n",
    "samples2 = posterior2.rvs(size=10**5)\n",
    "\n",
    "print(\"\\n95% CI that father works in a farm if son is a professional\\n\",\n",
    "      np.percentile(samples2[:,0], [2.5, 97.5]))"
   ]
  },
  {
   "cell_type": "code",
   "execution_count": 62,
   "metadata": {},
   "outputs": [
    {
     "name": "stdout",
     "output_type": "stream",
     "text": [
      "Generating 2 samples:\n",
      "[[19 15 18 18 15 15]\n",
      " [16 16 15 18 16 19]]\n",
      "Value of probability mass function at samples:\n",
      "[1.28115926e-05 1.53138568e-05]\n"
     ]
    }
   ],
   "source": [
    "mult = sts.multinomial(100, [1/6, 1/6, 1/6, 1/6, 1/6, 1/6])\n",
    "num_samples = 2\n",
    "print('Generating', num_samples, 'samples:')\n",
    "samples = mult.rvs(size=num_samples)\n",
    "\n",
    "\n",
    "print(samples)\n",
    "print('Value of probability mass function at samples:')\n",
    "print(mult.pmf(samples))"
   ]
  },
  {
   "cell_type": "code",
   "execution_count": 57,
   "metadata": {},
   "outputs": [
    {
     "name": "stdout",
     "output_type": "stream",
     "text": [
      "Generating 5 samples:\n",
      "[[0.16894931 0.40277231 0.20100879 0.22726959]\n",
      " [0.07946066 0.11558479 0.27263706 0.53231749]\n",
      " [0.14153622 0.15326053 0.59219034 0.11301291]\n",
      " [0.22383789 0.08118641 0.33564232 0.35933338]\n",
      " [0.00160571 0.41745923 0.39209485 0.18884022]]\n",
      "Sum of each sample (should be 1):\n",
      "[1. 1. 1. 1. 1.]\n",
      "Value of probability density function at each sample:\n",
      "[ 5.77690819 39.18902484  2.34595107 12.83249877 13.06957865]\n"
     ]
    }
   ],
   "source": [
    "dirichlet = sts.dirichlet([1, 2, 3, 4])\n",
    "num_samples = 5\n",
    "print('Generating', num_samples, 'samples:')\n",
    "samples = dirichlet.rvs(size=num_samples)\n",
    "print(samples)\n",
    "print('Sum of each sample (should be 1):')\n",
    "print(samples.sum(axis=1))\n",
    "print('Value of probability density function at each sample:')\n",
    "print(dirichlet.pdf(samples.transpose()))"
   ]
  },
  {
   "cell_type": "markdown",
   "metadata": {},
   "source": [
    "## Using the Stan simulation [example from class]"
   ]
  },
  {
   "cell_type": "code",
   "execution_count": 66,
   "metadata": {},
   "outputs": [],
   "source": [
    "import pystan\n",
    "# Code the type of work with integers\n",
    "farm = 0\n",
    "unskilled = 1\n",
    "skilled = 2\n",
    "professional = 3\n",
    "\n",
    "# Matrix of counts such that, for example, counts[farm][skilled] is the\n",
    "# number of times a father does farm work and a son skilled work.\n",
    "counts = [\n",
    "    [703, 1478, 1430, 1109],\n",
    "    [58, 1756, 1630, 1568],\n",
    "    [63, 1453, 2068, 2483],\n",
    "    [61, 749, 1183, 3315]]"
   ]
  },
  {
   "cell_type": "code",
   "execution_count": 64,
   "metadata": {},
   "outputs": [
    {
     "name": "stderr",
     "output_type": "stream",
     "text": [
      "INFO:pystan:COMPILING THE C++ CODE FOR MODEL anon_model_4288838636dda9ea0168308ec88e8b29 NOW.\n"
     ]
    }
   ],
   "source": [
    "# This is a partial Stan model. Look up how to define the multinomial\n",
    "# and dirichlet distributions in your likelihood and prior.\n",
    "\n",
    "stan_code = \"\"\"\n",
    "\n",
    "data {\n",
    "    int<lower=1> C;    // number of categories in the multinomial\n",
    "    vector[C] alpha;   // prior hyperparameters for Dirichlet\n",
    "    int counts[C];     // the data set: counts for each category\n",
    "}\n",
    "\n",
    "parameters {\n",
    "    simplex[C] theta;  // the probability vector over categories\n",
    "}\n",
    "\n",
    "model {\n",
    "\n",
    "    theta ~ dirichlet(alpha); // prior\n",
    "    counts ~ multinomial(theta); // likelihood\n",
    "}\n",
    "\"\"\"\n",
    "\n",
    "stan_model = pystan.StanModel(model_code=stan_code)  "
   ]
  },
  {
   "cell_type": "code",
   "execution_count": 67,
   "metadata": {},
   "outputs": [],
   "source": [
    "# Generate results\n",
    "\n",
    "# NOTE: The easiest option is to generate one set of posterior samples\n",
    "# for each row in the counts matrix.\n",
    "\n",
    "stan_data = {\n",
    "    'C': 4,\n",
    "    'alpha': [1, 1, 1, 1],\n",
    "    'counts': counts[unskilled],\n",
    "}\n",
    "\n",
    "results = stan_model.sampling(data=stan_data)"
   ]
  },
  {
   "cell_type": "code",
   "execution_count": 68,
   "metadata": {},
   "outputs": [
    {
     "data": {
      "text/plain": [
       "Inference for Stan model: anon_model_4288838636dda9ea0168308ec88e8b29.\n",
       "4 chains, each with iter=2000; warmup=1000; thin=1; \n",
       "post-warmup draws per chain=1000, total post-warmup draws=4000.\n",
       "\n",
       "           mean se_mean     sd   2.5%    25%    50%    75%  97.5%  n_eff   Rhat\n",
       "theta[1]   0.01  2.3e-5 1.5e-3 9.0e-3   0.01   0.01   0.01   0.01   4198    1.0\n",
       "theta[2]   0.35  1.1e-4 6.8e-3   0.34   0.35   0.35   0.35   0.36   3656    1.0\n",
       "theta[3]   0.33  1.1e-4 6.6e-3   0.31   0.32   0.33   0.33   0.34   3786    1.0\n",
       "theta[4]   0.31  1.0e-4 6.6e-3    0.3   0.31   0.31   0.32   0.33   4006    1.0\n",
       "lp__      -5762    0.03   1.23  -5765  -5763  -5762  -5761  -5761   2086    1.0\n",
       "\n",
       "Samples were drawn using NUTS at Thu Oct 17 12:47:43 2019.\n",
       "For each parameter, n_eff is a crude measure of effective sample size,\n",
       "and Rhat is the potential scale reduction factor on split chains (at \n",
       "convergence, Rhat=1)."
      ]
     },
     "execution_count": 68,
     "metadata": {},
     "output_type": "execute_result"
    }
   ],
   "source": [
    "results"
   ]
  },
  {
   "cell_type": "code",
   "execution_count": 74,
   "metadata": {},
   "outputs": [
    {
     "name": "stdout",
     "output_type": "stream",
     "text": [
      "Inference for Stan model: anon_model_4288838636dda9ea0168308ec88e8b29.\n",
      "4 chains, each with iter=2000; warmup=1000; thin=1; \n",
      "post-warmup draws per chain=1000, total post-warmup draws=4000.\n",
      "\n",
      "           mean se_mean     sd   2.5%    50%  97.5%  n_eff   Rhat\n",
      "theta[1]   0.01  2.3e-5 1.5e-3 9.0e-3   0.01   0.01   4198    1.0\n",
      "theta[2]   0.35  1.1e-4 6.8e-3   0.34   0.35   0.36   3656    1.0\n",
      "theta[3]   0.33  1.1e-4 6.6e-3   0.31   0.33   0.34   3786    1.0\n",
      "theta[4]   0.31  1.0e-4 6.6e-3    0.3   0.31   0.33   4006    1.0\n",
      "\n",
      "Samples were drawn using NUTS at Thu Oct 17 12:47:43 2019.\n",
      "For each parameter, n_eff is a crude measure of effective sample size,\n",
      "and Rhat is the potential scale reduction factor on split chains (at \n",
      "convergence, Rhat=1).\n"
     ]
    }
   ],
   "source": [
    "print(results.stansummary(pars=['theta'], probs=[0.025, 0.5, 0.975]))"
   ]
  },
  {
   "cell_type": "code",
   "execution_count": 77,
   "metadata": {},
   "outputs": [
    {
     "data": {
      "image/png": "[encoded data removed]",
      "text/plain": [
       "<Figure size 864x432 with 1 Axes>"
      ]
     },
     "metadata": {
      "needs_background": "light"
     },
     "output_type": "display_data"
    }
   ],
   "source": [
    "samples = results.extract()\n",
    "plt.figure(figsize=(12, 6))\n",
    "for i in range(4):\n",
    "    plt.plot(sts.uniform.rvs(loc=i+1-0.1, scale=0.2, size=samples['theta'].shape[0]), \n",
    "             samples['theta'][:,i], ',', alpha=0.5)\n",
    "plt.title('Distribution over each component of θ for p(son | father is unskilled)')\n",
    "plt.show()"
   ]
  },
  {
   "cell_type": "code",
   "execution_count": null,
   "metadata": {},
   "outputs": [],
   "source": []
  }
 ],
 "metadata": {
  "kernelspec": {
   "display_name": "Python 3",
   "language": "python",
   "name": "python3"
  },
  "language_info": {
   "codemirror_mode": {
    "name": "ipython",
    "version": 3
   },
   "file_extension": ".py",
   "mimetype": "text/x-python",
   "name": "python",
   "nbconvert_exporter": "python",
   "pygments_lexer": "ipython3",
   "version": "3.7.1"
  }
 },
 "nbformat": 4,
 "nbformat_minor": 2
}
