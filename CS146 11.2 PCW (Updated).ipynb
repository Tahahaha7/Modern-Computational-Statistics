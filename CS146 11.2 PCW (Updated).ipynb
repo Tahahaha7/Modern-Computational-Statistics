{
 "cells": [
  {
   "cell_type": "code",
   "execution_count": 19,
   "metadata": {},
   "outputs": [],
   "source": [
    "import trueskill\n",
    "import requests\n",
    "import csv\n",
    "import pandas as pd\n",
    "from scipy import stats as sts\n",
    "\n",
    "data_url = 'https://course-resources.minerva.kgi.edu/uploaded_files/mke/00090402-4649/tennis-data.csv'\n",
    "text = requests.get(data_url).content.decode('latin-1').strip()\n",
    "lines =\t(line for line in text.split('\\n'))"
   ]
  },
  {
   "cell_type": "code",
   "execution_count": 20,
   "metadata": {},
   "outputs": [],
   "source": [
    "# Create a TrueSkill environment with 0 probability of a draw\n",
    "env = trueskill.TrueSkill(draw_probability=0)\n",
    "\n",
    "players = {}  # player name: player rating\n",
    "first_game = {}  # player name: date of first game\n",
    "last_game = {}  # player name: date of last game\n",
    "\n",
    "count = 0\n",
    "reader = csv.reader((line.decode('latin-1') for line in requests.get(data_url).iter_lines()))\n",
    "header = next(reader)  # First line of CSV file is the header"
   ]
  },
  {
   "cell_type": "code",
   "execution_count": 21,
   "metadata": {},
   "outputs": [
    {
     "name": "stdout",
     "output_type": "stream",
     "text": [
      "5000 games processed\n",
      "10000 games processed\n",
      "15000 games processed\n",
      "20000 games processed\n",
      "25000 games processed\n",
      "30000 games processed\n",
      "35000 games processed\n",
      "40000 games processed\n",
      "45000 games processed\n",
      "done\n"
     ]
    }
   ],
   "source": [
    "for datum in (dict(zip(header, _)) for _ in reader):\n",
    "    if datum == {}: continue  # Skip empty rows\n",
    "\n",
    "    # It turns out names sometimes have trailing spaces, so strip those to avoid duplicates\n",
    "    winner_name = datum['Winner'].strip()\n",
    "    loser_name = datum['Loser'].strip()\n",
    "\n",
    "    # Get or create ratings\n",
    "    winner = players.get(winner_name) or env.create_rating()\n",
    "    loser = players.get(loser_name) or env.create_rating()\n",
    "\n",
    "    # Update ratings, and first and last played dates\n",
    "    players[winner_name], players[loser_name] = env.rate_1vs1(winner, loser)\n",
    "    first_game.setdefault(winner_name, datum['Date'])\n",
    "    first_game.setdefault(loser_name, datum['Date'])\n",
    "    last_game[winner_name] = last_game[loser_name] = datum['Date']\n",
    "\n",
    "    # Display progress through data file\n",
    "    count += 1\n",
    "    if count % 5000 == 0:\n",
    "        print(count, 'games processed')\n",
    "print('done')"
   ]
  },
  {
   "cell_type": "code",
   "execution_count": 22,
   "metadata": {},
   "outputs": [
    {
     "name": "stdout",
     "output_type": "stream",
     "text": [
      " 1. Djokovic N.         : 41.89 ± 0.97 [20/07/2004 - 11/09/2016]\n",
      " 2. Murray A.           : 38.65 ± 0.89 [19/04/2005 -  7/09/2016]\n",
      " 3. Federer R.          : 38.61 ± 0.89 [ 3/01/2000 -  8/07/2016]\n",
      " 4. Nadal R.            : 37.05 ± 0.88 [15/04/2003 -  4/09/2016]\n",
      " 5. Nishikori K.        : 35.91 ± 0.85 [17/07/2007 -  9/09/2016]\n",
      " 6. Wawrinka S.         : 35.62 ± 0.84 [ 7/07/2003 - 25/09/2016]\n",
      " 7. Soderling R.        : 35.43 ± 0.84 [22/10/2001 - 17/07/2011]\n",
      " 8. Del Potro J.M.      : 35.34 ± 0.84 [30/01/2006 -  8/09/2016]\n",
      " 9. Raonic M.           : 35.24 ± 0.84 [12/08/2009 - 22/09/2016]\n",
      "10. Berdych T.          : 35.21 ± 0.85 [25/08/2003 - 24/09/2016]\n",
      "11. Agassi A.           : 35.09 ± 0.85 [17/01/2000 -  3/09/2006]\n",
      "12. Sampras P.          : 34.81 ± 0.89 [17/01/2000 - 26/08/2002]\n",
      "13. Tsonga J.W.         : 34.62 ± 0.84 [15/09/2004 -  7/09/2016]\n",
      "14. Rafter P.           : 34.92 ± 0.95 [28/02/2000 - 12/11/2001]\n",
      "15. Roddick A.          : 34.16 ± 0.84 [28/02/2000 -  5/09/2012]\n",
      "16. Ferrer D.           : 34.09 ± 0.84 [ 8/04/2002 -  3/09/2016]\n",
      "17. Monfils G.          : 34.02 ± 0.83 [13/10/2004 -  9/09/2016]\n",
      "18. Gasquet R.          : 33.87 ± 0.83 [15/04/2002 - 29/08/2016]\n",
      "19. Cilic M.            : 33.86 ± 0.83 [25/07/2005 -  2/09/2016]\n",
      "20. Thiem D.            : 33.23 ± 0.83 [ 1/08/2011 - 25/09/2016]\n",
      "21. Kyrgios N.          : 33.36 ± 0.93 [27/05/2013 -  4/09/2016]\n",
      "22. Nalbandian D.       : 32.97 ± 0.83 [23/03/2000 - 21/03/2013]\n",
      "23. Bautista R.         : 32.78 ± 0.83 [ 2/11/2009 - 30/03/2016]\n",
      "24. Dimitrov G.         : 32.76 ± 0.82 [15/06/2008 -  6/09/2016]\n",
      "25. Ancic M.            : 32.60 ± 0.82 [18/03/2002 -  4/05/2010]\n",
      "26. Gonzalez F.         : 32.56 ± 0.83 [28/02/2000 - 21/03/2012]\n",
      "27. Fish M.             : 32.54 ± 0.82 [23/03/2000 -  2/09/2015]\n",
      "28. Isner J.            : 32.51 ± 0.83 [10/07/2007 -  2/09/2016]\n",
      "29. Rios M.             : 32.39 ± 0.84 [28/02/2000 - 26/05/2003]\n",
      "30. Kohlschreiber P.    : 32.12 ± 0.82 [29/04/2002 - 30/08/2016]\n",
      "31. Goffin D.           : 32.07 ± 0.84 [ 4/01/2011 - 24/09/2016]\n",
      "32. Kafelnikov Y.       : 31.90 ± 0.82 [ 3/01/2000 - 23/10/2003]\n",
      "33. Sock J.             : 31.93 ± 0.84 [ 1/09/2010 -  4/09/2016]\n",
      "34. Anderson K.         : 31.81 ± 0.81 [20/08/2007 -  2/09/2016]\n",
      "35. Simon G.            : 31.76 ± 0.81 [12/10/2004 - 24/09/2016]\n",
      "36. Henman T.           : 31.76 ± 0.81 [ 3/01/2000 - 31/08/2007]\n",
      "37. Escude N.           : 31.79 ± 0.83 [ 3/01/2000 - 28/07/2004]\n",
      "38. Krajicek R.         : 32.35 ± 1.03 [17/01/2000 - 17/06/2003]\n",
      "39. Haas T.             : 31.67 ± 0.81 [10/01/2000 - 21/10/2015]\n",
      "40. Ferrero J.C.        : 31.64 ± 0.82 [10/01/2000 - 23/10/2012]\n",
      "41. Ljubicic I.         : 31.50 ± 0.81 [ 3/01/2000 - 15/04/2012]\n",
      "42. Lopez F.            : 31.51 ± 0.81 [10/04/2000 -  1/09/2016]\n",
      "43. Kiefer N.           : 31.37 ± 0.81 [ 3/01/2000 - 22/06/2010]\n",
      "44. Karlovic I.         : 31.32 ± 0.81 [10/09/2001 -  5/09/2016]\n",
      "45. Kuerten G.          : 31.32 ± 0.81 [10/01/2000 - 25/05/2008]\n",
      "46. Coria G.            : 31.36 ± 0.82 [ 1/05/2000 - 15/07/2008]\n",
      "47. Robredo T.          : 31.33 ± 0.82 [24/04/2000 - 21/09/2016]\n",
      "48. Zverev A.           : 31.49 ± 0.92 [15/07/2013 - 25/09/2016]\n",
      "49. Johansson J.        : 31.31 ± 0.87 [10/07/2000 - 17/10/2013]\n",
      "50. Almagro N.          : 31.13 ± 0.82 [23/09/2003 - 20/09/2016]\n"
     ]
    }
   ],
   "source": [
    "# Top 20 players and their skills\n",
    "leaderboard = sorted(players.items(), key=lambda player: env.expose(player[1]), reverse=True)\n",
    "for i in range(50):\n",
    "    player = leaderboard[i]\n",
    "    print('%2i. %-20s: %.2f ± %.2f [%10s - %10s]' % (\n",
    "        i+1, player[0], player[1].mu, player[1].sigma,\n",
    "        first_game[player[0]], last_game[player[0]]))"
   ]
  },
  {
   "cell_type": "code",
   "execution_count": 23,
   "metadata": {},
   "outputs": [
    {
     "name": "stdout",
     "output_type": "stream",
     "text": [
      "Player 1 will win with probability: 0.5264\n"
     ]
    }
   ],
   "source": [
    "def calculate_win(mu1, mu2, sd1, sd2):\n",
    "    skill1 = sts.norm(mu1,sd1).rvs(size=5000)\n",
    "    skill2 = sts.norm(mu2,sd2).rvs(size=5000)\n",
    "    \n",
    "    perf1 = [sts.norm(i, env.beta).rvs(size=1) for i in skill1]\n",
    "    perf2 = [sts.norm(i, env.beta).rvs(size=1) for i in skill2]\n",
    "    \n",
    "    count = 0\n",
    "    for j in range(len(perf1)):\n",
    "        if perf1[j] > perf2[j]:\n",
    "            count += 1\n",
    "    proportion = count/len(perf1)\n",
    "    return print(\"Player 1 will win with probability:\",proportion)\n",
    "\n",
    "djokovic=(41.89,0.97)\n",
    "wawrinka=(35.62,0.84)\n",
    "n=(35.91,0.85)\n",
    "\n",
    "calculate_win(35.91, 35.62, 0.85, 0.84)"
   ]
  }
 ],
 "metadata": {
  "kernelspec": {
   "display_name": "Python 3",
   "language": "python",
   "name": "python3"
  },
  "language_info": {
   "codemirror_mode": {
    "name": "ipython",
    "version": 3
   },
   "file_extension": ".py",
   "mimetype": "text/x-python",
   "name": "python",
   "nbconvert_exporter": "python",
   "pygments_lexer": "ipython3",
   "version": "3.7.1"
  }
 },
 "nbformat": 4,
 "nbformat_minor": 2
}
